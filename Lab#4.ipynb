{
  "nbformat": 4,
  "nbformat_minor": 0,
  "metadata": {
    "colab": {
      "name": "Lab#4.ipynb",
      "provenance": []
    },
    "kernelspec": {
      "name": "python3",
      "display_name": "Python 3"
    },
    "language_info": {
      "name": "python"
    }
  },
  "cells": [
    {
      "cell_type": "code",
      "metadata": {
        "id": "CUQYzsIltI2i"
      },
      "source": [
        "#Pyswarm installation\n",
        "pip install --upgrade pyswarm"
      ],
      "execution_count": null,
      "outputs": []
    },
    {
      "cell_type": "code",
      "metadata": {
        "id": "e4wqq_FObuaP"
      },
      "source": [
        "#Initialization of modules\n",
        "import numpy as np\n",
        "import matplotlib.pyplot as plt\n",
        "%matplotlib inline\n",
        "import scipy.optimize\n",
        "import random\n",
        "from pyswarm import pso"
      ],
      "execution_count": 116,
      "outputs": []
    },
    {
      "cell_type": "code",
      "metadata": {
        "id": "oruLx3lubxpk"
      },
      "source": [
        "#Data generation\n",
        "x = np.array([3*k/1000 for k in range(1001)])\n",
        "f = np.array([1/(x[k]**2 -3*x[k]+2) for k in range(1001)])\n",
        "y=np.array([])\n",
        "for i in range(1001):\n",
        "  if (f[i]<-100):\n",
        "    y=np.append(y,[-100+np.random.standard_normal(1)])\n",
        "  elif (f[i]>100):\n",
        "    y=np.append(y,[100+np.random.standard_normal(1)])\n",
        "  else:\n",
        "    y=np.append(y,[f[i]+np.random.standard_normal(1)])"
      ],
      "execution_count": 118,
      "outputs": []
    },
    {
      "cell_type": "code",
      "metadata": {
        "id": "OMMUwoBGfGBX"
      },
      "source": [
        "#sum of squared residuals\n",
        "def D(a,b,c,d):\n",
        "  summa=0\n",
        "  for i in range(1001):\n",
        "    summa=summa+((a*x[i]+b)/(x[i]**2+c*x[i]+d)-y[i])**2\n",
        "  return summa"
      ],
      "execution_count": 119,
      "outputs": []
    },
    {
      "cell_type": "code",
      "metadata": {
        "id": "VDial-hdgL0z"
      },
      "source": [
        "#sum of squared residuals for scipy methods\n",
        "def D_NM(params):\n",
        "  a,b,c,d=params[0],params[1],params[2],params[3]\n",
        "  summa=0\n",
        "  for i in range(1001):\n",
        "    summa=summa+(((a*x[i]+b)/(x[i]**2+c*x[i]+d)-y[i])**2)\n",
        "  return summa"
      ],
      "execution_count": 120,
      "outputs": []
    },
    {
      "cell_type": "code",
      "metadata": {
        "colab": {
          "base_uri": "https://localhost:8080/"
        },
        "id": "mr3gWLEtfica",
        "outputId": "2a6aaedc-be01-4745-bc06-132982c18bc4"
      },
      "source": [
        "#Nelder Mead\n",
        "NM=scipy.optimize.minimize(D_NM,np.array([0,0,0,0]),args=(), method='Nelder-Mead',options={'xatol': 0.001,'disp': True})\n",
        "print(NM.x)"
      ],
      "execution_count": 121,
      "outputs": [
        {
          "output_type": "stream",
          "name": "stderr",
          "text": [
            "/usr/local/lib/python3.7/dist-packages/ipykernel_launcher.py:6: RuntimeWarning: invalid value encountered in double_scalars\n",
            "  \n",
            "/usr/local/lib/python3.7/dist-packages/ipykernel_launcher.py:6: RuntimeWarning: divide by zero encountered in double_scalars\n",
            "  \n"
          ]
        },
        {
          "output_type": "stream",
          "name": "stdout",
          "text": [
            "Optimization terminated successfully.\n",
            "         Current function value: 261940.438955\n",
            "         Iterations: 300\n",
            "         Function evaluations: 525\n",
            "[ 0.04550986 -0.56517313 -3.03337223  2.38223489]\n"
          ]
        }
      ]
    },
    {
      "cell_type": "code",
      "metadata": {
        "id": "MjA2ne-Cj60F"
      },
      "source": [
        "#function which outputs a list of function values calculated in all x points for Levenberg-Marquardt\n",
        "def D_lm(params):\n",
        "  a,b,c,d=params\n",
        "  return (a*x+b)/(x**2+c*x+d)"
      ],
      "execution_count": 122,
      "outputs": []
    },
    {
      "cell_type": "code",
      "metadata": {
        "colab": {
          "base_uri": "https://localhost:8080/"
        },
        "id": "QgHQRJuVi782",
        "outputId": "8a89739f-eefc-4a80-fb9a-624b68ec01c8"
      },
      "source": [
        "#Levenberg-Marquardt\n",
        "lm = scipy.optimize.least_squares(D_lm, [1,1,1,1], method=\"lm\", xtol=1e-3)\n",
        "print(D_NM(lm.x))"
      ],
      "execution_count": 127,
      "outputs": [
        {
          "output_type": "stream",
          "name": "stdout",
          "text": [
            "1001\n",
            "4\n",
            "4004\n",
            "267441.13679544686\n"
          ]
        }
      ]
    },
    {
      "cell_type": "code",
      "metadata": {
        "colab": {
          "base_uri": "https://localhost:8080/"
        },
        "id": "_OIbWK86O5CM",
        "outputId": "b35d4e84-4d79-417b-e6ef-6dbea6f0c7de"
      },
      "source": [
        "lm"
      ],
      "execution_count": 130,
      "outputs": [
        {
          "output_type": "execute_result",
          "data": {
            "text/plain": [
              " active_mask: array([0, 0, 0, 0])\n",
              "        cost: 2.41978064432904e-30\n",
              "         fun: array([-1.98314669e-16, -1.97574574e-16, -1.96835385e-16, ...,\n",
              "       -4.09111245e-18, -4.07328398e-18, -4.05550741e-18])\n",
              "        grad: array([-1.13242026e-14, -2.71746742e-14, -8.96169695e-31, -3.46539793e-30])\n",
              "         jac: array([[0.00000000e+00, 1.00000002e+00, 0.00000000e+00, 1.98314673e-16],\n",
              "       [2.99100013e-03, 9.97000044e-01, 5.90945577e-19, 1.96981859e-16],\n",
              "       [5.96400139e-03, 9.94000232e-01, 1.17392651e-18, 1.95654418e-16],\n",
              "       ...,\n",
              "       [2.31053533e-01, 7.71721888e-02, 9.45265987e-19, 3.15720102e-19],\n",
              "       [2.30911312e-01, 7.70474849e-02, 9.40567348e-19, 3.13836286e-19],\n",
              "       [2.30769231e-01, 7.69230769e-02, 9.35886325e-19, 3.11962108e-19]])\n",
              "     message: '`xtol` termination condition is satisfied.'\n",
              "        nfev: 11\n",
              "        njev: None\n",
              "  optimality: 2.717467415701781e-14\n",
              "      status: 3\n",
              "     success: True\n",
              "           x: array([ 4.85310232e-17, -1.98314666e-16,  1.00000000e+00,  9.99999982e-01])"
            ]
          },
          "metadata": {},
          "execution_count": 130
        }
      ]
    },
    {
      "cell_type": "code",
      "metadata": {
        "id": "dHyJlUrhpx08"
      },
      "source": [
        "#Simulated Annealing\n",
        "sa= scipy.optimize.dual_annealing(D_NM,[(-5,5),(-5,5),(-5,5),(-5,5)],seed=1)"
      ],
      "execution_count": 128,
      "outputs": []
    },
    {
      "cell_type": "code",
      "metadata": {
        "colab": {
          "base_uri": "https://localhost:8080/"
        },
        "id": "oyvbhHS8Op05",
        "outputId": "1ea95e04-82e8-428c-a63e-92b426543454"
      },
      "source": [
        "sa"
      ],
      "execution_count": 129,
      "outputs": [
        {
          "output_type": "execute_result",
          "data": {
            "text/plain": [
              "     fun: 136273.43450802114\n",
              " message: ['Maximum number of iteration reached']\n",
              "    nfev: 8956\n",
              "    nhev: 0\n",
              "     nit: 1000\n",
              "    njev: 0\n",
              "  status: 0\n",
              " success: True\n",
              "       x: array([-0.99914628,  0.99963714, -2.0009232 ,  1.00093929])"
            ]
          },
          "metadata": {},
          "execution_count": 129
        }
      ]
    },
    {
      "cell_type": "code",
      "metadata": {
        "colab": {
          "base_uri": "https://localhost:8080/"
        },
        "id": "TX3qkBK4sme-",
        "outputId": "5bd44621-056b-4a3e-a0c7-30e4aa8a9bdc"
      },
      "source": [
        "#Patricle Swarm Optimization\n",
        "lower = np.array([-1,-1,-1,-1]) \n",
        "upper = np.array([1,1,1,1])\n",
        "swarm= pso(D_NM, lb, ub, maxiter=1000, swarmsize=1000, minfunc=0.001)"
      ],
      "execution_count": 131,
      "outputs": [
        {
          "output_type": "stream",
          "name": "stdout",
          "text": [
            "Stopping search: Swarm best objective change less than 0.001\n"
          ]
        }
      ]
    },
    {
      "cell_type": "code",
      "metadata": {
        "colab": {
          "base_uri": "https://localhost:8080/"
        },
        "id": "ECPaYSm-Pm-o",
        "outputId": "2186179d-7d5a-4cb3-e744-44c767d0da1d"
      },
      "source": [
        "swarm"
      ],
      "execution_count": 134,
      "outputs": [
        {
          "output_type": "execute_result",
          "data": {
            "text/plain": [
              "(array([-0.65254616,  0.24904743, -0.40348262, -0.59731128]),\n",
              " 197332.2874377983)"
            ]
          },
          "metadata": {},
          "execution_count": 134
        }
      ]
    },
    {
      "cell_type": "code",
      "metadata": {
        "id": "SS0vl7SztwU5"
      },
      "source": [
        "#Differential Evolution method\n",
        "bounds = np.array([[-5, 5], [-5, 5], [-5, 5], [-5, 5]])\n",
        "de = scipy.optimize.differential_evolution(D_NM, bounds, tol=0.001)"
      ],
      "execution_count": 135,
      "outputs": []
    },
    {
      "cell_type": "code",
      "metadata": {
        "colab": {
          "base_uri": "https://localhost:8080/"
        },
        "id": "DguXf6TSQsRk",
        "outputId": "2fcf316e-c651-4d2a-baac-bbdca7d55f44"
      },
      "source": [
        "de"
      ],
      "execution_count": 136,
      "outputs": [
        {
          "output_type": "execute_result",
          "data": {
            "text/plain": [
              "     fun: 136277.78390247075\n",
              "     jac: array([-12670.13140023, -13676.87946185, 664835.36793385, 681775.46781953])\n",
              " message: 'Optimization terminated successfully.'\n",
              "    nfev: 8785\n",
              "     nit: 144\n",
              " success: True\n",
              "       x: array([-0.99088488,  0.99137372, -2.00093499,  1.00095081])"
            ]
          },
          "metadata": {},
          "execution_count": 136
        }
      ]
    },
    {
      "cell_type": "code",
      "metadata": {
        "colab": {
          "base_uri": "https://localhost:8080/",
          "height": 338
        },
        "id": "NSoFrHDeuGup",
        "outputId": "864919e9-6f8a-496a-e626-9634dbf98446"
      },
      "source": [
        "#Data visualization\n",
        "plt.figure(figsize=(8,5))\n",
        "plt.plot(x, (result.x[0]*x+result.x[1])/(x**2+result.x[2]*x+result.x[3]), 'r',label='Nelder-Mead',linewidth=6)\n",
        "plt.plot(x, (lm.x[0]*x+lm.x[1])/(x**2+lm.x[2]*x+lm.x[3]), 'y', label='Levenberg-Marquardt',linewidth=5)\n",
        "plt.plot(x, (sa.x[0]*x+sa.x[1])/(x**2+sa.x[2]*x+sa.x[3]), 'b', label='Simulated Annealing',linewidth=4)\n",
        "plt.plot(x, (swarm[0][0]*x+swarm[0][1])/(x**2+swarm[0][2]*x+swarm[0][3]), 'g',label='Particle Swarm',linewidth=3)\n",
        "plt.plot(x, (de.x[0]*x+de.x[1])/(x**2+de.x[2]*x+de.x[3]), 'violet',label='Differential Evolution',linewidth=2)\n",
        "plt.scatter(x,y)\n",
        "plt.legend()"
      ],
      "execution_count": 137,
      "outputs": [
        {
          "output_type": "execute_result",
          "data": {
            "text/plain": [
              "<matplotlib.legend.Legend at 0x7efc31822850>"
            ]
          },
          "metadata": {},
          "execution_count": 137
        },
        {
          "output_type": "display_data",
          "data": {
            "image/png": "[encoded data removed]",
            "text/plain": [
              "<Figure size 576x360 with 1 Axes>"
            ]
          },
          "metadata": {
            "needs_background": "light"
          }
        }
      ]
    },
    {
      "cell_type": "code",
      "metadata": {
        "id": "A6dz7Askw91g"
      },
      "source": [
        "#coordinate input\n",
        "coordinates=np.array([\n",
        "[0.549963E-07, 0.985808E-08],\n",
        "[-28.8733, -0.797739E-07],\n",
        "[-79.2916, -21.4033],\n",
        "[-14.6577, -43.3896],\n",
        "[-64.7473, 21.8982],\n",
        "[-29.0585, -43.2167],\n",
        "[-72.0785, 0.181581],\n",
        "[-36.0366, -21.6135],\n",
        "[-50.4808, 7.37447],\n",
        "[-50.5859, -21.5882],\n",
        "[-0.135819, -28.7293],\n",
        "[-65.0866, -36.0625],\n",
        "[-21.4983, 7.31942],\n",
        "[-57.5687, -43.2506],\n",
        "[-43.0700, 14.5548]])"
      ],
      "execution_count": 138,
      "outputs": []
    },
    {
      "cell_type": "code",
      "metadata": {
        "id": "B1PjfRy-ybV7"
      },
      "source": [
        "#euclidean distance function\n",
        "def dist(x1,x2):\n",
        "  return np.sqrt((x1[0]-x2[0])**2+(x1[1]-x2[1])**2)"
      ],
      "execution_count": 139,
      "outputs": []
    },
    {
      "cell_type": "code",
      "metadata": {
        "id": "VSP745Daxqdf"
      },
      "source": [
        "#calculation of distance matrix\n",
        "matrix=np.array([np.zeros(15),np.zeros(15),np.zeros(15),np.zeros(15),np.zeros(15),np.zeros(15),np.zeros(15),np.zeros(15),np.zeros(15),np.zeros(15),np.zeros(15),np.zeros(15),np.zeros(15),np.zeros(15),np.zeros(15)])\n",
        "for i in range(15):\n",
        "  for j in range(15):\n",
        "    matrix[i][j]=dist(coordinates[i],coordinates[j])"
      ],
      "execution_count": 140,
      "outputs": []
    },
    {
      "cell_type": "code",
      "metadata": {
        "id": "iC7CdbGp0tGS"
      },
      "source": [
        "#initial approximation\n",
        "a0=np.array([i for i in range(15)])"
      ],
      "execution_count": 141,
      "outputs": []
    },
    {
      "cell_type": "code",
      "metadata": {
        "id": "L7qhWPOM1HQq"
      },
      "source": [
        "#cost function: total distance\n",
        "def cost(a):\n",
        "  summa=0\n",
        "  for i in range(1,a.size):\n",
        "    summa=summa+matrix[a[i-1]][a[i]]\n",
        "  return summa"
      ],
      "execution_count": 142,
      "outputs": []
    },
    {
      "cell_type": "code",
      "metadata": {
        "id": "VDIsXrmqBgN5"
      },
      "source": [
        "#x and y coordinates of cities\n",
        "x=np.array([coordinates[i][0] for i in range (15)])\n",
        "y=np.array([coordinates[i][1] for i in range (15)])"
      ],
      "execution_count": 143,
      "outputs": []
    },
    {
      "cell_type": "code",
      "metadata": {
        "colab": {
          "base_uri": "https://localhost:8080/"
        },
        "id": "k3AF-r472Yp1",
        "outputId": "910e99d8-f8c9-4784-c2b7-7149e7a721eb"
      },
      "source": [
        "#Simulated Annealing for TSP solving\n",
        "a=a0\n",
        "c=cost(a0)\n",
        "T=100\n",
        "iter=0\n",
        "while(cost(a)>350):\n",
        "  l=random.randint(0,14)\n",
        "  r=random.randint(l,15)\n",
        "  trans=random.randint(0,2)\n",
        "  if (trans==0):\n",
        "    sub=a[l:r]\n",
        "    sub_rev=np.flip(a[l:r])\n",
        "    a=np.delete(a,range(l,r))\n",
        "    a=np.insert(a,l,sub_rev)\n",
        "    if(cost(a)>c):\n",
        "      p=np.exp(-(cost(a)-c)/T)\n",
        "      value=random.uniform(0,1)\n",
        "      if (value>p):\n",
        "        a=np.delete(a,range(l,r))\n",
        "        a=np.insert(a,l,sub)\n",
        "      else:\n",
        "        c=cost(a)\n",
        "  if (trans==1):\n",
        "    sub=a[l:r]\n",
        "    reserve=np.array([a[i] for i in range(a.size)])\n",
        "    a=np.delete(a,range(l,r))\n",
        "    q=random.randint(0,a.size)\n",
        "    a=np.insert(a,q,sub)\n",
        "    if(cost(a)>c):\n",
        "      p=np.exp(-(cost(a)-c)/T)\n",
        "      value=random.uniform(0,1)\n",
        "      if (value>p):\n",
        "        a=reserve\n",
        "      else:\n",
        "        c=cost(a)\n",
        "  if (iter==0):\n",
        "    first=a\n",
        "    first_cost=c\n",
        "  iter=iter+1\n",
        "  T=T*0.99"
      ],
      "execution_count": 150,
      "outputs": [
        {
          "output_type": "stream",
          "name": "stderr",
          "text": [
            "/usr/local/lib/python3.7/dist-packages/ipykernel_launcher.py:30: RuntimeWarning: overflow encountered in double_scalars\n",
            "/usr/local/lib/python3.7/dist-packages/ipykernel_launcher.py:16: RuntimeWarning: overflow encountered in double_scalars\n",
            "  app.launch_new_instance()\n"
          ]
        }
      ]
    },
    {
      "cell_type": "code",
      "metadata": {
        "colab": {
          "base_uri": "https://localhost:8080/",
          "height": 338
        },
        "id": "eiN046I0EBXu",
        "outputId": "f5c44d66-5175-40d0-8d36-b037d8b231b1"
      },
      "source": [
        "#path visualization on the first iteration\n",
        "plt.figure(figsize=(8,5))\n",
        "plt.scatter(x,y)\n",
        "for i in range(14):\n",
        "    plt.arrow(coordinates[first[i]][0],coordinates[first[i]][1],coordinates[first[i+1]][0]-coordinates[first[i]][0],coordinates[first[i+1]][1]-coordinates[first[i]][1])\n",
        "plt.arrow(coordinates[first[14]][0],coordinates[first[14]][1],coordinates[first[0]][0]-coordinates[first[14]][0],coordinates[first[0]][1]-coordinates[first[14]][1])\n",
        "print(cost(first))"
      ],
      "execution_count": 151,
      "outputs": [
        {
          "output_type": "stream",
          "name": "stdout",
          "text": [
            "680.8535911480834\n"
          ]
        },
        {
          "output_type": "display_data",
          "data": {
            "image/png": "[encoded data removed]",
            "text/plain": [
              "<Figure size 576x360 with 1 Axes>"
            ]
          },
          "metadata": {
            "needs_background": "light"
          }
        }
      ]
    },
    {
      "cell_type": "code",
      "metadata": {
        "colab": {
          "base_uri": "https://localhost:8080/",
          "height": 338
        },
        "id": "AI9reZ5lCqtp",
        "outputId": "e2dd9cec-352d-46d1-abd7-748d934bfc04"
      },
      "source": [
        "#path visualization for last iteration\n",
        "plt.figure(figsize=(8,5))\n",
        "plt.scatter(x,y)\n",
        "for i in range(14):\n",
        "    plt.arrow(coordinates[a[i]][0],coordinates[a[i]][1],coordinates[a[i+1]][0]-coordinates[a[i]][0],coordinates[a[i+1]][1]-coordinates[a[i]][1])\n",
        "plt.arrow(coordinates[a[14]][0],coordinates[a[14]][1],coordinates[a[0]][0]-coordinates[a[14]][0],coordinates[a[0]][1]-coordinates[a[14]][1])\n",
        "print(cost(a))"
      ],
      "execution_count": 152,
      "outputs": [
        {
          "output_type": "stream",
          "name": "stdout",
          "text": [
            "339.76549093119183\n"
          ]
        },
        {
          "output_type": "display_data",
          "data": {
            "image/png": "[encoded data removed]",
            "text/plain": [
              "<Figure size 576x360 with 1 Axes>"
            ]
          },
          "metadata": {
            "needs_background": "light"
          }
        }
      ]
    }
  ]
}
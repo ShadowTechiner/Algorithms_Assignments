{
  "cells":[
    {
      "cell_type":"code",
      "source":[
        "#Initialization of modules\n",
        "import numpy as np\n",
        "import matplotlib.pyplot as plt\n",
        "%matplotlib inline\n",
        "import scipy.optimize\n",
        "from decimal import *\n",
        "import decimal\n",
        "import random"
      ],
      "execution_count":1,
      "outputs":[
        
      ],
      "metadata":{
        
      }
    },
    {
      "cell_type":"code",
      "source":[
        "#cubic function\n",
        "def x_3(x):\n",
        "    return x**3"
      ],
      "execution_count":2,
      "outputs":[
        
      ],
      "metadata":{
        
      }
    },
    {
      "cell_type":"code",
      "source":[
        "#function |x-0.2|\n",
        "def module(x):\n",
        "    return abs(x-0.2)"
      ],
      "execution_count":3,
      "outputs":[
        
      ],
      "metadata":{
        
      }
    },
    {
      "cell_type":"code",
      "source":[
        "#function x*sin(1\/x)\n",
        "def trig(x):\n",
        "    return x*np.sin(1\/x)"
      ],
      "execution_count":4,
      "outputs":[
        
      ],
      "metadata":{
        
      }
    },
    {
      "cell_type":"code",
      "source":[
        "#one-dimensional brute-force algorithm\n",
        "def bruteforce(func,a,b):\n",
        "    f=[]\n",
        "    N=0\n",
        "    for i in range(0,1000):\n",
        "        x_now=a+i*(b-a)\/1000\n",
        "        f.append((x_now,func(x_now)))\n",
        "        N=N+1\n",
        "    return min(f, key = lambda t: t[1])[1],N,N"
      ],
      "execution_count":5,
      "outputs":[
        
      ],
      "metadata":{
        
      }
    },
    {
      "cell_type":"code",
      "source":[
        "#dichotomy algorithm\n",
        "def dichotomy(func,a,b):\n",
        "    ak=a\n",
        "    bk=b\n",
        "    N_func=0\n",
        "    N_iter=0\n",
        "    delta = 0.001\/2\n",
        "    while abs(ak-bk)>0.001:\n",
        "        N_iter=N_iter+1\n",
        "        x1=(ak+bk-delta)\/2\n",
        "        x2=(ak+bk+delta)\/2\n",
        "        if (func(x1)<=func(x2)):\n",
        "            bk=x2\n",
        "            N_func=N_func+2\n",
        "        else:\n",
        "            ak=x1\n",
        "            N_func=N_func+2\n",
        "    return func((ak+bk)\/2),N_iter,N_func "
      ],
      "execution_count":6,
      "outputs":[
        
      ],
      "metadata":{
        
      }
    },
    {
      "cell_type":"code",
      "source":[
        "#golden section algorithm\n",
        "def golden(func,a,b):\n",
        "    ak=a\n",
        "    bk=b\n",
        "    N_iter=0\n",
        "    N_func=0\n",
        "    while abs(ak-bk)>0.001:\n",
        "        N_iter=N_iter+1\n",
        "        if (N_iter==1):\n",
        "            x1=ak+(3-np.sqrt(5))\/2*(bk-ak)\n",
        "            x2=bk+(np.sqrt(5)-3)\/2*(bk-ak)\n",
        "            if func(x1)<=func(x2):\n",
        "                bk=x2\n",
        "                x2=x1\n",
        "                N_func=N_func+2\n",
        "                i='l'\n",
        "            else:\n",
        "                ak=x1\n",
        "                x1=x2\n",
        "                N_func=N_func+2\n",
        "                i='r'\n",
        "        else:\n",
        "            if (i=='r'):\n",
        "                x2=bk+(np.sqrt(5)-3)\/2*(bk-ak)\n",
        "                if func(x1)<=func(x2):\n",
        "                    bk=x2\n",
        "                    x2=x1\n",
        "                    N_func=N_func+1\n",
        "                    i='l'\n",
        "                else:\n",
        "                    ak=x1\n",
        "                    x1=x2\n",
        "                    N_func=N_func+1\n",
        "                    i='r'\n",
        "            else:\n",
        "                x1=ak+(-np.sqrt(5)+3)\/2*(bk-ak)\n",
        "                if func(x1)<=func(x2):\n",
        "                    bk=x2\n",
        "                    x2=x1\n",
        "                    N_func=N_func+1\n",
        "                    i='l'\n",
        "                else:\n",
        "                    ak=x1\n",
        "                    x1=x2\n",
        "                    N_func=N_func+1\n",
        "                    i='r'\n",
        "    return func((ak+bk)\/2),N_iter,N_func"
      ],
      "execution_count":7,
      "outputs":[
        
      ],
      "metadata":{
        
      }
    },
    {
      "cell_type":"code",
      "source":[
        "#application of brute-force method to functions \n",
        "print(bruteforce(x_3,0,1))\n",
        "print(bruteforce(module,0,1))\n",
        "print(bruteforce(trig,0.01,1))"
      ],
      "execution_count":8,
      "outputs":[
        {
          "name":"stdout",
          "text":[
            "(0.0, 1000, 1000)\n",
            "(0.0, 1000, 1000)\n",
            "(-0.2172296012912312, 1000, 1000)\n"
          ],
          "output_type":"stream"
        }
      ],
      "metadata":{
        
      }
    },
    {
      "cell_type":"code",
      "source":[
        "#application of dichotomy method to functions\n",
        "print(dichotomy(x_3,0,1))\n",
        "print(dichotomy(module,0,1))\n",
        "print(dichotomy(trig,0.01,1))"
      ],
      "execution_count":9,
      "outputs":[
        {
          "name":"stdout",
          "text":[
            "(1.2056736854538035e-10, 11, 22)\n",
            "(0.0001011962890624385, 11, 22)\n",
            "(-0.21723352556119732, 11, 22)\n"
          ],
          "output_type":"stream"
        }
      ],
      "metadata":{
        
      }
    },
    {
      "cell_type":"code",
      "source":[
        "#application of golden section method to functions\n",
        "print(golden(x_3,0,1))\n",
        "print(golden(module,0,1))\n",
        "print(golden(trig,0.01,1))"
      ],
      "execution_count":10,
      "outputs":[
        {
          "name":"stdout",
          "text":[
            "(4.9256800857728296e-11, 15, 16)\n",
            "(7.331374358568454e-05, 15, 16)\n",
            "(-0.21723232817753246, 15, 16)\n"
          ],
          "output_type":"stream"
        }
      ],
      "metadata":{
        
      }
    },
    {
      "cell_type":"code",
      "source":[
        "#random generation of sample (x,y)\n",
        "alpha=random.uniform(0,1)\n",
        "beta=random.uniform(0,1)\n",
        "x = np.array([k\/101 for k in range(101)])\n",
        "y = np.array([alpha * x[k] + beta + np.random.standard_normal(1) for k in range(101)])"
      ],
      "execution_count":11,
      "outputs":[
        
      ],
      "metadata":{
        
      }
    },
    {
      "cell_type":"code",
      "source":[
        "#determination of parameters for linear approximation using linalg\n",
        "A1 = np.vstack([x, np.ones(len(x))]).T\n",
        "a, b = np.linalg.lstsq(A1, y, rcond=None)[0]\n",
        "\n",
        "plt.scatter(x, y)\n",
        "plt.plot(x, a*x+b, 'r')\n",
        "print('[a,b] =',[a, b])"
      ],
      "execution_count":12,
      "outputs":[
        {
          "name":"stdout",
          "text":[
            "[a,b] = [array([0.3354707]), array([0.07315205])]\n"
          ],
          "output_type":"stream"
        },
        {
          "data":{
            "image\/png":"[encoded data removed]"
          },
          "metadata":{
            "image\/png":{
              
            }
          },
          "output_type":"display_data"
        }
      ],
      "metadata":{
        
      }
    },
    {
      "cell_type":"code",
      "source":[
        "#squared residual sum for linear approximation\n",
        "def d_lin(x,y,a,b):\n",
        "    summa=0\n",
        "    for i in range(0,101):\n",
        "        summa=summa+(a*x[i]+b-y[i])**2\n",
        "    return summa"
      ],
      "execution_count":13,
      "outputs":[
        
      ],
      "metadata":{
        
      }
    },
    {
      "cell_type":"code",
      "source":[
        "#squared residual sum for rational approximation\n",
        "def d_rat(x,y,a,b):\n",
        "    summa=0\n",
        "    for i in range(0,101):\n",
        "        summa=summa+(a\/(1+b*x[i])-y[i])**2\n",
        "    return summa"
      ],
      "execution_count":14,
      "outputs":[
        
      ],
      "metadata":{
        
      }
    },
    {
      "cell_type":"code",
      "source":[
        "#multidimensional brute-force method\n",
        "def bruteforce1(func,x,y):\n",
        "    f=[]\n",
        "    N=0\n",
        "    for i in range(0,1000):\n",
        "        a=i\/1000\n",
        "        for j in range(0,1000):\n",
        "            N=N+1\n",
        "            b=j\/1000\n",
        "            f.append((a,b,func(x,y,a,b)))\n",
        "    return min(f, key = lambda t: t[2])[0],min(f, key = lambda t: t[2])[1],N"
      ],
      "execution_count":15,
      "outputs":[
        
      ],
      "metadata":{
        
      }
    },
    {
      "cell_type":"code",
      "source":[
        "def gauss1(func,x,y):\n",
        "    a_prev,b_prev=0,0\n",
        "    a_now,b_now=1,1\n",
        "    N_iter=0\n",
        "    N_func=0\n",
        "    f=[]\n",
        "    while abs(a_now-a_prev)>0.001 and abs(b_now-b_prev)>0.001: \n",
        "        N_iter=N_iter+1\n",
        "        f=[]\n",
        "        a_prev=a_now\n",
        "        b_prev=b_now\n",
        "        for a in range(0,1000):\n",
        "            f.append((a\/1000,b_prev,func(x,y,a\/1000,b_prev)))\n",
        "            N_func=N_func+1\n",
        "        a_now=min(f, key = lambda t: t[2])[0]\n",
        "        f=[]\n",
        "        for b in range(0,1000):\n",
        "            f.append((a_now,b\/1000,func(x,y,a_now,b\/1000)))\n",
        "            N_func=N_func+1\n",
        "        b_now=min(f, key = lambda t: t[2])[1]\n",
        "    return a_now,b_now,N_func,N_iter"
      ],
      "execution_count":16,
      "outputs":[
        
      ],
      "metadata":{
        
      }
    },
    {
      "cell_type":"code",
      "source":[
        "#squared residual sum for linear approximation (for Nelder-Mead)\n",
        "def d_lin_NM(params):\n",
        "    a,b=params\n",
        "    summa=0\n",
        "    for i in range(0,101):\n",
        "        summa=summa+(a*x[i]+b-y[i])**2\n",
        "    return summa"
      ],
      "execution_count":17,
      "outputs":[
        
      ],
      "metadata":{
        
      }
    },
    {
      "cell_type":"code",
      "source":[
        "#squared residual sum for rational approximation (for Nelder-Mead)\n",
        "def d_rat_NM(params):\n",
        "    a,b=params\n",
        "    summa=0\n",
        "    for i in range(0,101):\n",
        "        summa=summa+(a\/(x[i]*b+1)-y[i])**2\n",
        "    return summa"
      ],
      "execution_count":18,
      "outputs":[
        
      ],
      "metadata":{
        
      }
    },
    {
      "cell_type":"code",
      "source":[
        "#determination of linear parameters and the number of iterations (f-calculations)\n",
        "Brute_lin=bruteforce1(d_lin,x,y)"
      ],
      "execution_count":20,
      "outputs":[
        
      ],
      "metadata":{
        
      }
    },
    {
      "cell_type":"code",
      "source":[
        "#visualization of brute-force method applied to squared error function with linear approximation\n",
        "plt.scatter(x, y)\n",
        "plt.plot(x, Brute_lin[0]*x+Brute_lin[1], 'r')\n",
        "print('[a,b] =',[Brute_lin[0], Brute_lin[1]])\n",
        "print(Brute_lin[2])"
      ],
      "execution_count":21,
      "outputs":[
        {
          "name":"stdout",
          "text":[
            "[a,b] = [0.336, 0.073]\n",
            "1000000\n"
          ],
          "output_type":"stream"
        },
        {
          "data":{
            "image\/png":"[encoded data removed]"
          },
          "metadata":{
            "image\/png":{
              
            }
          },
          "output_type":"display_data"
        }
      ],
      "metadata":{
        
      }
    },
    {
      "cell_type":"code",
      "source":[
        "#determination of rational parameters and the number of iterations (f-calculations)\n",
        "Brute_rat=bruteforce1(d_rat,x,y)"
      ],
      "execution_count":22,
      "outputs":[
        
      ],
      "metadata":{
        
      }
    },
    {
      "cell_type":"code",
      "source":[
        "#visualization of brute-force method applied to squared error function with rational approximation\n",
        "plt.scatter(x, y)\n",
        "plt.plot(x, Brute_rat[0]\/(1+x*Brute_rat[1]), 'r')\n",
        "print('[a,b] =',[Brute_rat[0], Brute_rat[1]])\n",
        "print(Brute_rat[2])"
      ],
      "execution_count":23,
      "outputs":[
        {
          "name":"stdout",
          "text":[
            "[a,b] = [0.239, 0.0]\n",
            "1000000\n"
          ],
          "output_type":"stream"
        },
        {
          "data":{
            "image\/png":"[encoded data removed]"
          },
          "metadata":{
            "image\/png":{
              
            }
          },
          "output_type":"display_data"
        }
      ],
      "metadata":{
        
      }
    },
    {
      "cell_type":"code",
      "source":[
        "#determination of gauss linear parameters and the number of iterations (f-calculations)\n",
        "(a_gauss_lin,b_gauss_lin,N_gauss_lin_func,N_gauss_lin_it)=gauss1(d_lin,x,y)"
      ],
      "execution_count":24,
      "outputs":[
        
      ],
      "metadata":{
        
      }
    },
    {
      "cell_type":"code",
      "source":[
        "#visualization of gauss method applied to squared error function with linear approximation\n",
        "plt.scatter(x, y)\n",
        "plt.plot(x, a_gauss_lin*x+b_gauss_lin, 'r')\n",
        "print('[a,b] =',[a_gauss_lin, b_gauss_lin])\n",
        "print(N_gauss_lin_func,N_gauss_lin_it)"
      ],
      "execution_count":25,
      "outputs":[
        {
          "name":"stdout",
          "text":[
            "[a,b] = [0.334, 0.074]\n",
            "36000 18\n"
          ],
          "output_type":"stream"
        },
        {
          "data":{
            "image\/png":"[encoded data removed]"
          },
          "metadata":{
            "image\/png":{
              
            }
          },
          "output_type":"display_data"
        }
      ],
      "metadata":{
        
      }
    },
    {
      "cell_type":"code",
      "source":[
        "#determination of gauss rational parameters and the number of iterations (f-calculations)\n",
        "(a_gauss_rat,b_gauss_rat,N_gauss_rat_func,N_gauss_rat_it)=gauss1(d_rat,x,y)"
      ],
      "execution_count":26,
      "outputs":[
        
      ],
      "metadata":{
        
      }
    },
    {
      "cell_type":"code",
      "source":[
        "#visualization of gauss method applied to squared error function with rational approximation\n",
        "plt.scatter(x, y)\n",
        "plt.plot(x, a_gauss_rat\/(1+x*b_gauss_rat), 'r')\n",
        "print('[a,b] =',[a_gauss_rat, b_gauss_rat])\n",
        "print(N_gauss_rat_func,N_gauss_rat_it)"
      ],
      "execution_count":27,
      "outputs":[
        {
          "name":"stdout",
          "text":[
            "[a,b] = [0.239, 0.0]\n",
            "6000 3\n"
          ],
          "output_type":"stream"
        },
        {
          "data":{
            "image\/png":"[encoded data removed]"
          },
          "metadata":{
            "image\/png":{
              
            }
          },
          "output_type":"display_data"
        }
      ],
      "metadata":{
        
      }
    },
    {
      "cell_type":"code",
      "source":[
        "#determination of Nelder-Mead linear parameters and the number of iterations (f-calculations)\n",
        "result=scipy.optimize.minimize(d_lin_NM,np.array([1,1]),args=(), method='Nelder-Mead',options={'xatol': 0.001,'disp': True})\n",
        "print ('[a, b] =',result.x)\n",
        "plt.scatter(x,y)\n",
        "plt.plot(x, result.x[0] * x + result.x[1], 'r')"
      ],
      "execution_count":28,
      "outputs":[
        {
          "name":"stdout",
          "text":[
            "Optimization terminated successfully.\n",
            "         Current function value: 120.153242\n",
            "         Iterations: 37\n",
            "         Function evaluations: 71\n",
            "[a, b] = [0.33572583 0.07318512]\n"
          ],
          "output_type":"stream"
        },
        {
          "data":{
            "text\/plain":[
              "[<matplotlib.lines.Line2D at 0x7fa55c5b4820>]"
            ],
            "image\/png":"[encoded data removed]"
          },
          "metadata":{
            "image\/png":{
              
            }
          },
          "output_type":"display_data"
        }
      ],
      "metadata":{
        
      }
    },
    {
      "cell_type":"code",
      "source":[
        "#determination of Nelder-Mead rational parameters and the number of iterations (f-calculations)\n",
        "result_rat=scipy.optimize.minimize(d_rat_NM,np.array([1,1]),args=(), method='Nelder-Mead',options={'xatol': 0.001,'disp': True})\n",
        "print ('[a, b] =',result_rat.x)\n",
        "plt.scatter(x,y)\n",
        "plt.plot(x, result_rat.x[0]\/(1+x*result_rat.x[1]), 'r')"
      ],
      "execution_count":31,
      "outputs":[
        {
          "name":"stdout",
          "text":[
            "Optimization terminated successfully.\n",
            "         Current function value: 120.344325\n",
            "         Iterations: 109\n",
            "         Function evaluations: 212\n",
            "[a, b] = [ 0.14952718 -0.65907636]\n"
          ],
          "output_type":"stream"
        },
        {
          "data":{
            "text\/plain":[
              "[<matplotlib.lines.Line2D at 0x7fa55c657460>]"
            ],
            "image\/png":"[encoded data removed]"
          },
          "metadata":{
            "image\/png":{
              
            }
          },
          "output_type":"display_data"
        }
      ],
      "metadata":{
        
      }
    },
    {
      "cell_type":"code",
      "source":[
        "print(d_rat_NM(result_rat.x))\n",
        "print(d_rat(x,y,0.239,0))"
      ],
      "execution_count":33,
      "outputs":[
        {
          "name":"stdout",
          "text":[
            "[120.34432458]\n",
            "[121.1003674]\n"
          ],
          "output_type":"stream"
        }
      ],
      "metadata":{
        
      }
    }
  ],
  "metadata":{
    
  },
  "nbformat":4,
  "nbformat_minor":0
}
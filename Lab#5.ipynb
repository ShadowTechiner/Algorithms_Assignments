{
  "cells":[
    {
      "cell_type":"code",
      "source":[
        "#import of modules\n",
        "import networkx as nx\n",
        "import matplotlib.pyplot as plt\n",
        "import numpy as np\n",
        "import math"
      ],
      "execution_count":160,
      "outputs":[
        
      ],
      "metadata":{
        
      }
    },
    {
      "cell_type":"code",
      "source":[
        "#class with methods to visualize a graph\n",
        "class GraphVisualization:\n",
        "   \n",
        "    def __init__(self):\n",
        "          \n",
        "        # visual is a list which stores all \n",
        "        # the set of edges that constitutes a\n",
        "        # graph\n",
        "        self.visual = []\n",
        "          \n",
        "    # addEdge function inputs the vertices of an\n",
        "    # edge and appends it to the visual list\n",
        "    def addEdge(self, a, b):\n",
        "        temp = [a, b]\n",
        "        self.visual.append(temp)\n",
        "          \n",
        "    # In visualize function G is an object of\n",
        "    # class Graph given by networkx G.add_edges_from(visual)\n",
        "    # creates a graph with a given list\n",
        "    # nx.draw_networkx(G) - plots the graph\n",
        "    # plt.show() - displays the graph\n",
        "    def visualize(self):\n",
        "        G = nx.Graph()\n",
        "        G.add_edges_from(self.visual)\n",
        "        nx.draw_networkx(G)\n",
        "        plt.figure(figsize=(8, 6))\n",
        "        plt.show()"
      ],
      "execution_count":0,
      "outputs":[
        
      ],
      "metadata":{
        
      }
    },
    {
      "cell_type":"code",
      "source":[
        "#initiation of adjacency matrix with 200 edges and 100 vertices \n",
        "N = 100\n",
        "E = 200\n",
        "k = 0\n",
        "matr = np.random.random_integers(0,0,size=(N,N))\n",
        "for i in range(N):\n",
        "    for j in range(N):\n",
        "        if j>i:\n",
        "            if k<200:\n",
        "                matr[i][j]=np.random.random_integers(0,1)\n",
        "                if matr[i][j]==1:\n",
        "                    k=k+1\n",
        "        elif j==i:\n",
        "            matr[i][j]=0\n",
        "        else:\n",
        "            matr[i][j]=matr[j][i]\n",
        "print(k)\n",
        "matr"
      ],
      "execution_count":234,
      "outputs":[
        {
          "name":"stdout",
          "text":[
            "200\n"
          ],
          "output_type":"stream"
        },
        {
          "name":"stderr",
          "text":[
            "<ipython-input-234-04315f7f2a01>:4: DeprecationWarning: This function is deprecated. Please call randint(0, 0 + 1) instead\n",
            "  matr = np.random.random_integers(0,0,size=(N,N))\n",
            "<ipython-input-234-04315f7f2a01>:9: DeprecationWarning: This function is deprecated. Please call randint(0, 1 + 1) instead\n",
            "  matr[i][j]=np.random.random_integers(0,1)\n"
          ],
          "output_type":"stream"
        },
        {
          "data":{
            "text\/html":[
              
            ]
          },
          "metadata":{
            
          },
          "output_type":"display_data"
        }
      ],
      "metadata":{
        
      }
    },
    {
      "cell_type":"code",
      "source":[
        "#transfering adjacency matrix to the adjacency list\n",
        "adj_list=dict()\n",
        "for i in range(N):\n",
        "    adj_list['v'+str(i)]=[]\n",
        "for i in range(N):\n",
        "    for j in range(N):\n",
        "        if matr[i][j]==1:\n",
        "            adj_list['v'+str(i)].append('v'+str(j))\n",
        "print(adj_list)"
      ],
      "execution_count":235,
      "outputs":[
        {
          "name":"stdout",
          "text":[
            "{'v0': [], 'v1': [], 'v2': [], 'v3': [], 'v4': [], 'v5': [], 'v6': [], 'v7': [], 'v8': [], 'v9': [], 'v10': [], 'v11': [], 'v12': [], 'v13': [], 'v14': [], 'v15': [], 'v16': [], 'v17': [], 'v18': [], 'v19': [], 'v20': [], 'v21': [], 'v22': [], 'v23': [], 'v24': [], 'v25': [], 'v26': [], 'v27': [], 'v28': [], 'v29': [], 'v30': [], 'v31': [], 'v32': [], 'v33': [], 'v34': [], 'v35': [], 'v36': [], 'v37': [], 'v38': [], 'v39': [], 'v40': [], 'v41': [], 'v42': [], 'v43': [], 'v44': [], 'v45': [], 'v46': [], 'v47': [], 'v48': [], 'v49': [], 'v50': [], 'v51': [], 'v52': [], 'v53': [], 'v54': [], 'v55': [], 'v56': [], 'v57': [], 'v58': [], 'v59': [], 'v60': [], 'v61': [], 'v62': [], 'v63': [], 'v64': [], 'v65': [], 'v66': [], 'v67': [], 'v68': [], 'v69': [], 'v70': [], 'v71': [], 'v72': [], 'v73': [], 'v74': [], 'v75': [], 'v76': [], 'v77': [], 'v78': [], 'v79': [], 'v80': [], 'v81': [], 'v82': [], 'v83': [], 'v84': [], 'v85': [], 'v86': [], 'v87': [], 'v88': [], 'v89': [], 'v90': [], 'v91': [], 'v92': [], 'v93': [], 'v94': [], 'v95': [], 'v96': [], 'v97': [], 'v98': [], 'v99': []}\n"
          ],
          "output_type":"stream"
        }
      ],
      "metadata":{
        
      }
    },
    {
      "cell_type":"code",
      "source":[
        "#the adjacency list for graph visualiztion (no edge repetition)\n",
        "adj_list_vis=dict()\n",
        "for i in range(N):\n",
        "    adj_list_vis['v'+str(i)]=[]\n",
        "print(adj_list_vis)\n",
        "for i in range(N):\n",
        "    for j in range(N):\n",
        "        if j>i:\n",
        "            if matr[i][j]==1:\n",
        "                adj_list_vis['v'+str(i)].append('v'+str(j))\n",
        "print(adj_list_vis)"
      ],
      "execution_count":237,
      "outputs":[
        {
          "name":"stdout",
          "text":[
            "{'v0': [], 'v1': [], 'v2': [], 'v3': [], 'v4': [], 'v5': [], 'v6': [], 'v7': [], 'v8': [], 'v9': [], 'v10': [], 'v11': [], 'v12': [], 'v13': [], 'v14': [], 'v15': [], 'v16': [], 'v17': [], 'v18': [], 'v19': [], 'v20': [], 'v21': [], 'v22': [], 'v23': [], 'v24': [], 'v25': [], 'v26': [], 'v27': [], 'v28': [], 'v29': [], 'v30': [], 'v31': [], 'v32': [], 'v33': [], 'v34': [], 'v35': [], 'v36': [], 'v37': [], 'v38': [], 'v39': [], 'v40': [], 'v41': [], 'v42': [], 'v43': [], 'v44': [], 'v45': [], 'v46': [], 'v47': [], 'v48': [], 'v49': [], 'v50': [], 'v51': [], 'v52': [], 'v53': [], 'v54': [], 'v55': [], 'v56': [], 'v57': [], 'v58': [], 'v59': [], 'v60': [], 'v61': [], 'v62': [], 'v63': [], 'v64': [], 'v65': [], 'v66': [], 'v67': [], 'v68': [], 'v69': [], 'v70': [], 'v71': [], 'v72': [], 'v73': [], 'v74': [], 'v75': [], 'v76': [], 'v77': [], 'v78': [], 'v79': [], 'v80': [], 'v81': [], 'v82': [], 'v83': [], 'v84': [], 'v85': [], 'v86': [], 'v87': [], 'v88': [], 'v89': [], 'v90': [], 'v91': [], 'v92': [], 'v93': [], 'v94': [], 'v95': [], 'v96': [], 'v97': [], 'v98': [], 'v99': []}\n"
          ],
          "output_type":"stream"
        }
      ],
      "metadata":{
        
      }
    },
    {
      "cell_type":"code",
      "source":[
        "#showing the adjacency list\n",
        "iter=0\n",
        "for key in adj_list:\n",
        "    #if iter==10:\n",
        "    #    break\n",
        "    print(key, adj_list[key])\n",
        "    iter=iter+1"
      ],
      "execution_count":248,
      "outputs":[
        {
          "name":"stdout",
          "text":[
            "v0 ['v1', 'v2', 'v7', 'v11', 'v13', 'v14', 'v16', 'v18', 'v19', 'v25', 'v29', 'v32', 'v34', 'v38', 'v41', 'v43', 'v46', 'v48', 'v50', 'v51', 'v52', 'v53', 'v57', 'v59', 'v61', 'v62', 'v63', 'v64', 'v66', 'v67', 'v68', 'v69', 'v70', 'v71', 'v72', 'v74', 'v75', 'v77', 'v78', 'v80', 'v81', 'v83', 'v84', 'v90', 'v92', 'v94', 'v96', 'v97', 'v98', 'v99']\n",
            "v1 ['v0', 'v2', 'v3', 'v5', 'v7', 'v8', 'v9', 'v13', 'v14', 'v15', 'v18', 'v19', 'v20', 'v21', 'v23', 'v25', 'v31', 'v34', 'v35', 'v37', 'v38', 'v40', 'v41', 'v42', 'v43', 'v44', 'v47', 'v50', 'v53', 'v54', 'v55', 'v59', 'v62', 'v65', 'v66', 'v70', 'v73', 'v74', 'v75', 'v76', 'v77', 'v79', 'v82', 'v84', 'v85', 'v86', 'v88', 'v90', 'v92', 'v93', 'v95', 'v99']\n",
            "v2 ['v0', 'v1', 'v3', 'v7', 'v8', 'v9', 'v11', 'v14', 'v16', 'v18', 'v23', 'v24', 'v26', 'v27', 'v28', 'v29', 'v30', 'v33', 'v34', 'v36', 'v38', 'v41', 'v42', 'v43', 'v47', 'v48', 'v50', 'v52', 'v53', 'v56', 'v59', 'v61', 'v62', 'v63', 'v64', 'v65', 'v70', 'v71', 'v72', 'v74', 'v78', 'v86', 'v88', 'v89', 'v90', 'v91', 'v92', 'v98', 'v99']\n",
            "v3 ['v1', 'v2', 'v5', 'v6', 'v9', 'v13', 'v16', 'v19', 'v20', 'v24', 'v27', 'v28', 'v30', 'v33', 'v34', 'v35', 'v36', 'v38', 'v41', 'v43', 'v44', 'v46', 'v48', 'v49', 'v50', 'v51', 'v54', 'v55', 'v56', 'v57', 'v58', 'v62', 'v63', 'v64', 'v66', 'v69', 'v70', 'v72', 'v74', 'v75', 'v76', 'v77', 'v80', 'v86', 'v87', 'v88', 'v90', 'v93', 'v98', 'v99']\n",
            "v4 ['v7', 'v9', 'v10', 'v12']\n",
            "v5 ['v1', 'v3']\n",
            "v6 ['v3']\n",
            "v7 ['v0', 'v1', 'v2', 'v4']\n",
            "v8 ['v1', 'v2']\n",
            "v9 ['v1', 'v2', 'v3', 'v4']\n",
            "v10 ['v4']\n",
            "v11 ['v0', 'v2']\n",
            "v12 ['v4']\n",
            "v13 ['v0', 'v1', 'v3']\n",
            "v14 ['v0', 'v1', 'v2']\n",
            "v15 ['v1']\n",
            "v16 ['v0', 'v2', 'v3']\n",
            "v17 []\n",
            "v18 ['v0', 'v1', 'v2']\n",
            "v19 ['v0', 'v1', 'v3']\n",
            "v20 ['v1', 'v3']\n",
            "v21 ['v1']\n",
            "v22 []\n",
            "v23 ['v1', 'v2']\n",
            "v24 ['v2', 'v3']\n",
            "v25 ['v0', 'v1']\n",
            "v26 ['v2']\n",
            "v27 ['v2', 'v3']\n",
            "v28 ['v2', 'v3']\n",
            "v29 ['v0', 'v2']\n",
            "v30 ['v2', 'v3']\n",
            "v31 ['v1']\n",
            "v32 ['v0']\n",
            "v33 ['v2', 'v3']\n",
            "v34 ['v0', 'v1', 'v2', 'v3']\n",
            "v35 ['v1', 'v3']\n",
            "v36 ['v2', 'v3']\n",
            "v37 ['v1']\n",
            "v38 ['v0', 'v1', 'v2', 'v3']\n",
            "v39 []\n",
            "v40 ['v1']\n",
            "v41 ['v0', 'v1', 'v2', 'v3']\n",
            "v42 ['v1', 'v2']\n",
            "v43 ['v0', 'v1', 'v2', 'v3']\n",
            "v44 ['v1', 'v3']\n",
            "v45 []\n",
            "v46 ['v0', 'v3']\n",
            "v47 ['v1', 'v2']\n",
            "v48 ['v0', 'v2', 'v3']\n",
            "v49 ['v3']\n",
            "v50 ['v0', 'v1', 'v2', 'v3']\n",
            "v51 ['v0', 'v3']\n",
            "v52 ['v0', 'v2']\n",
            "v53 ['v0', 'v1', 'v2']\n",
            "v54 ['v1', 'v3']\n",
            "v55 ['v1', 'v3']\n",
            "v56 ['v2', 'v3']\n",
            "v57 ['v0', 'v3']\n",
            "v58 ['v3']\n",
            "v59 ['v0', 'v1', 'v2']\n",
            "v60 []\n",
            "v61 ['v0', 'v2']\n",
            "v62 ['v0', 'v1', 'v2', 'v3']\n",
            "v63 ['v0', 'v2', 'v3']\n",
            "v64 ['v0', 'v2', 'v3']\n",
            "v65 ['v1', 'v2']\n",
            "v66 ['v0', 'v1', 'v3']\n",
            "v67 ['v0']\n",
            "v68 ['v0']\n",
            "v69 ['v0', 'v3']\n",
            "v70 ['v0', 'v1', 'v2', 'v3']\n",
            "v71 ['v0', 'v2']\n",
            "v72 ['v0', 'v2', 'v3']\n",
            "v73 ['v1']\n",
            "v74 ['v0', 'v1', 'v2', 'v3']\n",
            "v75 ['v0', 'v1', 'v3']\n",
            "v76 ['v1', 'v3']\n",
            "v77 ['v0', 'v1', 'v3']\n",
            "v78 ['v0', 'v2']\n",
            "v79 ['v1']\n",
            "v80 ['v0', 'v3']\n",
            "v81 ['v0']\n",
            "v82 ['v1']\n",
            "v83 ['v0']\n",
            "v84 ['v0', 'v1']\n",
            "v85 ['v1']\n",
            "v86 ['v1', 'v2', 'v3']\n",
            "v87 ['v3']\n",
            "v88 ['v1', 'v2', 'v3']\n",
            "v89 ['v2']\n",
            "v90 ['v0', 'v1', 'v2', 'v3']\n",
            "v91 ['v2']\n",
            "v92 ['v0', 'v1', 'v2']\n",
            "v93 ['v1', 'v3']\n",
            "v94 ['v0']\n",
            "v95 ['v1']\n",
            "v96 ['v0']\n",
            "v97 ['v0']\n",
            "v98 ['v0', 'v2', 'v3']\n",
            "v99 ['v0', 'v1', 'v2', 'v3']\n"
          ],
          "output_type":"stream"
        }
      ],
      "metadata":{
        
      }
    },
    {
      "cell_type":"code",
      "source":[
        "#graph visualization\n",
        "G = GraphVisualization()\n",
        "size=0\n",
        "for key in adj_list_vis:\n",
        "    for j in range(len(adj_list_vis[key])):\n",
        "        size=size+1\n",
        "        G.addEdge(key,adj_list_vis[key][j])\n",
        "G.visualize()"
      ],
      "execution_count":240,
      "outputs":[
        {
          "data":{
            "image\/png":"[encoded data removed]",
            "text\/plain":[
              "<Figure size 576x432 with 0 Axes>"
            ]
          },
          "metadata":{
            "image\/png":{
              
            }
          },
          "output_type":"display_data"
        }
      ],
      "metadata":{
        
      }
    },
    {
      "cell_type":"code",
      "source":[
        "#breadth-first search with a starting node s\n",
        "def bfs(graph,s):\n",
        "    l=dict()\n",
        "    Q=list()\n",
        "    for i in range(len(graph.keys())):\n",
        "        l['v'+str(i)]=('white',np.inf,'NIL')\n",
        "    l[s]=('gray',0,'NIL')\n",
        "    Q.append(s)\n",
        "    while len(Q)>0:\n",
        "        u=Q.pop(0)\n",
        "        for v in graph[u]:\n",
        "            if l[v][0]=='white':\n",
        "                l[v]=('gray',l[u][1]+1,u)\n",
        "                Q.append(v)\n",
        "        l[u]=('black',l[u][1],l[u][2])\n",
        "    return l"
      ],
      "execution_count":175,
      "outputs":[
        
      ],
      "metadata":{
        
      }
    },
    {
      "cell_type":"code",
      "source":[
        "#function that return a path and minimal distance between nodes (or the absense of a path)\n",
        "def find_short(v1,v2):\n",
        "    short=bfs(adj_list,v1)\n",
        "    if short[v2][2]!='NIL':\n",
        "        k=v2\n",
        "        path=[v2]\n",
        "        dist=1\n",
        "        while short[k][2]!=v1:\n",
        "            path.append(short[k][2])\n",
        "            k=short[k][2]\n",
        "            dist=dist+1\n",
        "        path.append(v1)\n",
        "        return path,dist\n",
        "    else:\n",
        "        return 'No Path'"
      ],
      "execution_count":280,
      "outputs":[
        
      ],
      "metadata":{
        
      }
    },
    {
      "cell_type":"code",
      "source":[
        "#implementation of BFS (both verteces are in one connected component)\n",
        "find_short('v4','v62')"
      ],
      "execution_count":284,
      "outputs":[
        {
          "data":{
            "text\/plain":[
              "(['v62', 'v0', 'v7', 'v4'], 3)"
            ]
          },
          "metadata":{
            
          },
          "output_type":"display_data"
        }
      ],
      "metadata":{
        
      }
    },
    {
      "cell_type":"code",
      "source":[
        "#implementation of BFS (vertices in two different connected components)\n",
        "find_short('v0','v60')"
      ],
      "execution_count":285,
      "outputs":[
        {
          "data":{
            "text\/plain":[
              "'No Path'"
            ]
          },
          "metadata":{
            
          },
          "output_type":"display_data"
        }
      ],
      "metadata":{
        
      }
    },
    {
      "cell_type":"code",
      "source":[
        "#DFS for searching connected components\n",
        "def dfs_visit(graph,u,l,q):\n",
        "    global time\n",
        "    time=time+1\n",
        "    l[u]=('gray',time,l[u][2],l[u][3])\n",
        "    for v in graph[u]:\n",
        "        if l[v][0]=='white':\n",
        "            l[v]=(l[v][0],l[v][1],l[v][2],u)\n",
        "            q.append(v)\n",
        "            dfs_visit(graph,v,l,q)\n",
        "    time=time+1\n",
        "    l[u]=('black',l[u][1],time,l[u][3])\n",
        "def dfs(graph):\n",
        "    l=dict()\n",
        "    q=dict()\n",
        "    for i in range(len(graph.keys())):\n",
        "        l['v'+str(i)]=('white',np.inf,np.inf,'NIL')\n",
        "    global time\n",
        "    time = 0\n",
        "    k = 0\n",
        "    for u in graph.keys():\n",
        "        if l[u][0]=='white':\n",
        "            k=k+1\n",
        "            q[k]=[u]\n",
        "            dfs_visit(graph,u,l,q[k])\n",
        "    return q"
      ],
      "execution_count":258,
      "outputs":[
        
      ],
      "metadata":{
        
      }
    },
    {
      "cell_type":"code",
      "source":[
        "#implementation of DFS to find the number of components and the vertices they're consist of\n",
        "components=dfs(adj_list)\n",
        "print(components)\n",
        "print(len(components.keys()))"
      ],
      "execution_count":261,
      "outputs":[
        
      ],
      "metadata":{
        
      }
    }
  ],
  "metadata":{
    
  },
  "nbformat":4,
  "nbformat_minor":0
}
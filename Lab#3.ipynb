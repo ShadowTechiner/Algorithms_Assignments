{
  "cells":[
    {
      "cell_type":"code",
      "source":[
        "#Initialization of modules\n",
        "import numpy as np\n",
        "import matplotlib.pyplot as plt\n",
        "%matplotlib inline\n",
        "import scipy.optimize\n",
        "import random"
      ],
      "execution_count":2,
      "outputs":[
        
      ],
      "metadata":{
        
      }
    },
    {
      "cell_type":"code",
      "source":[
        "#golden section algorithm\n",
        "def golden(func,a,b):\n",
        "    ak=a\n",
        "    bk=b\n",
        "    N_iter=0\n",
        "    N_func=0\n",
        "    while abs(ak-bk)>0.001:\n",
        "        N_iter=N_iter+1\n",
        "        if (N_iter==1):\n",
        "            x1=ak+(3-np.sqrt(5))\/2*(bk-ak)\n",
        "            x2=bk+(np.sqrt(5)-3)\/2*(bk-ak)\n",
        "            if func(x1)<=func(x2):\n",
        "                bk=x2\n",
        "                x2=x1\n",
        "                N_func=N_func+2\n",
        "                i='l'\n",
        "            else:\n",
        "                ak=x1\n",
        "                x1=x2\n",
        "                N_func=N_func+2\n",
        "                i='r'\n",
        "        else:\n",
        "            if (i=='r'):\n",
        "                x2=bk+(np.sqrt(5)-3)\/2*(bk-ak)\n",
        "                if func(x1)<=func(x2):\n",
        "                    bk=x2\n",
        "                    x2=x1\n",
        "                    N_func=N_func+1\n",
        "                    i='l'\n",
        "                else:\n",
        "                    ak=x1\n",
        "                    x1=x2\n",
        "                    N_func=N_func+1\n",
        "                    i='r'\n",
        "            else:\n",
        "                x1=ak+(-np.sqrt(5)+3)\/2*(bk-ak)\n",
        "                if func(x1)<=func(x2):\n",
        "                    bk=x2\n",
        "                    x2=x1\n",
        "                    N_func=N_func+1\n",
        "                    i='l'\n",
        "                else:\n",
        "                    ak=x1\n",
        "                    x1=x2\n",
        "                    N_func=N_func+1\n",
        "                    i='r'\n",
        "    return (ak+bk)\/2,N_iter,N_func"
      ],
      "execution_count":3,
      "outputs":[
        
      ],
      "metadata":{
        
      }
    },
    {
      "cell_type":"code",
      "source":[
        "#squared residual sum for linear approximation\n",
        "def d_lin(a,b):\n",
        "    summa=0\n",
        "    for i in range(0,101):\n",
        "        summa=summa+(a*x[i]+b-y[i])**2\n",
        "    return summa"
      ],
      "execution_count":4,
      "outputs":[
        
      ],
      "metadata":{
        
      }
    },
    {
      "cell_type":"code",
      "source":[
        "#squared residual sum for rational approximation\n",
        "def d_rat(a,b):\n",
        "    summa=0\n",
        "    for i in range(0,101):\n",
        "        summa=summa+(a\/(1+b*x[i])-y[i])**2\n",
        "    return summa"
      ],
      "execution_count":5,
      "outputs":[
        
      ],
      "metadata":{
        
      }
    },
    {
      "cell_type":"code",
      "source":[
        "#random generation of sample (x,y)\n",
        "alpha=random.uniform(0,1)\n",
        "beta=random.uniform(0,1)\n",
        "x = np.array([k\/101 for k in range(101)])\n",
        "y = np.array([alpha * x[k] + beta + np.random.standard_normal(1) for k in range(101)])\n",
        "print(x)\n",
        "print(y)"
      ],
      "execution_count":6,
      "outputs":[
        {
          "name":"stdout",
          "text":[
            "[0.         0.00990099 0.01980198 0.02970297 0.03960396 0.04950495\n",
            " 0.05940594 0.06930693 0.07920792 0.08910891 0.0990099  0.10891089\n",
            " 0.11881188 0.12871287 0.13861386 0.14851485 0.15841584 0.16831683\n",
            " 0.17821782 0.18811881 0.1980198  0.20792079 0.21782178 0.22772277\n",
            " 0.23762376 0.24752475 0.25742574 0.26732673 0.27722772 0.28712871\n",
            " 0.2970297  0.30693069 0.31683168 0.32673267 0.33663366 0.34653465\n",
            " 0.35643564 0.36633663 0.37623762 0.38613861 0.3960396  0.40594059\n",
            " 0.41584158 0.42574257 0.43564356 0.44554455 0.45544554 0.46534653\n",
            " 0.47524752 0.48514851 0.4950495  0.5049505  0.51485149 0.52475248\n",
            " 0.53465347 0.54455446 0.55445545 0.56435644 0.57425743 0.58415842\n",
            " 0.59405941 0.6039604  0.61386139 0.62376238 0.63366337 0.64356436\n",
            " 0.65346535 0.66336634 0.67326733 0.68316832 0.69306931 0.7029703\n",
            " 0.71287129 0.72277228 0.73267327 0.74257426 0.75247525 0.76237624\n",
            " 0.77227723 0.78217822 0.79207921 0.8019802  0.81188119 0.82178218\n",
            " 0.83168317 0.84158416 0.85148515 0.86138614 0.87128713 0.88118812\n",
            " 0.89108911 0.9009901  0.91089109 0.92079208 0.93069307 0.94059406\n",
            " 0.95049505 0.96039604 0.97029703 0.98019802 0.99009901]\n",
            "[[ 2.37947012]\n",
            " [-1.03908803]\n",
            " [ 1.13256597]\n",
            " [ 0.65249468]\n",
            " [ 0.40600003]\n",
            " [ 1.18544412]\n",
            " [ 1.91015371]\n",
            " [-0.28064509]\n",
            " [ 0.55084726]\n",
            " [ 1.1683423 ]\n",
            " [ 0.2341903 ]\n",
            " [-0.30860293]\n",
            " [ 0.78515434]\n",
            " [ 1.00321672]\n",
            " [ 0.22295662]\n",
            " [ 1.71368105]\n",
            " [ 1.76650498]\n",
            " [ 1.76090583]\n",
            " [-0.16447747]\n",
            " [ 1.19890109]\n",
            " [ 2.07193571]\n",
            " [-0.10183365]\n",
            " [-0.17786736]\n",
            " [ 1.85867019]\n",
            " [ 0.5243443 ]\n",
            " [-0.51319183]\n",
            " [-0.11900698]\n",
            " [ 0.64132751]\n",
            " [-0.03237983]\n",
            " [-0.41251897]\n",
            " [-1.39140854]\n",
            " [ 0.7079597 ]\n",
            " [ 0.06196601]\n",
            " [-0.91128702]\n",
            " [ 0.2935483 ]\n",
            " [ 0.6109386 ]\n",
            " [ 0.70185508]\n",
            " [ 0.2500598 ]\n",
            " [ 0.66491623]\n",
            " [ 0.55278829]\n",
            " [ 0.17135696]\n",
            " [ 1.36767641]\n",
            " [ 1.15716377]\n",
            " [ 1.19202774]\n",
            " [ 1.19925087]\n",
            " [ 0.09626381]\n",
            " [-0.15809645]\n",
            " [-0.21766843]\n",
            " [ 1.11675603]\n",
            " [ 0.1223657 ]\n",
            " [-0.27290927]\n",
            " [ 2.75085447]\n",
            " [ 1.31772427]\n",
            " [ 1.64879508]\n",
            " [ 0.86170856]\n",
            " [ 1.21647211]\n",
            " [-0.91774253]\n",
            " [ 0.44633953]\n",
            " [ 1.37376285]\n",
            " [-1.13516375]\n",
            " [ 1.91204862]\n",
            " [ 1.21017512]\n",
            " [-1.31302909]\n",
            " [ 0.5093642 ]\n",
            " [ 0.9690989 ]\n",
            " [ 0.69935301]\n",
            " [ 0.81999885]\n",
            " [ 1.31912967]\n",
            " [ 0.71416432]\n",
            " [-0.76850359]\n",
            " [ 0.15573437]\n",
            " [ 0.3706896 ]\n",
            " [ 1.8216815 ]\n",
            " [ 0.76248756]\n",
            " [ 1.90075189]\n",
            " [-0.62901228]\n",
            " [ 1.39953527]\n",
            " [ 0.8716165 ]\n",
            " [ 0.99968529]\n",
            " [ 1.13669524]\n",
            " [ 0.92513963]\n",
            " [ 1.68413287]\n",
            " [ 2.13539532]\n",
            " [-0.662893  ]\n",
            " [ 0.87094349]\n",
            " [ 1.36728017]\n",
            " [ 1.10461396]\n",
            " [ 0.23771277]\n",
            " [ 0.21139462]\n",
            " [ 1.54490059]\n",
            " [ 1.74660878]\n",
            " [ 0.62180806]\n",
            " [ 1.36939708]\n",
            " [ 0.25182549]\n",
            " [-0.63822533]\n",
            " [ 2.25090181]\n",
            " [ 1.05611805]\n",
            " [ 0.86176472]\n",
            " [ 0.00852606]\n",
            " [-0.78304361]\n",
            " [-0.04375395]]\n"
          ],
          "output_type":"stream"
        }
      ],
      "metadata":{
        
      }
    },
    {
      "cell_type":"code",
      "source":[
        "#determination of parameters for linear approximation using linalg\n",
        "A1 = np.vstack([x, np.ones(len(x))]).T\n",
        "a, b = np.linalg.lstsq(A1, y, rcond=None)[0]\n",
        "\n",
        "plt.scatter(x, y)\n",
        "plt.plot(x, a*x+b, 'r')\n",
        "print('[a,b] =',[a, b])"
      ],
      "execution_count":12,
      "outputs":[
        {
          "name":"stdout",
          "text":[
            "[a,b] = [array([0.99495572]), array([0.20544786])]\n"
          ],
          "output_type":"stream"
        },
        {
          "data":{
            "image\/png":"[encoded data removed]"
          },
          "metadata":{
            "image\/png":{
              
            }
          },
          "output_type":"display_data"
        }
      ],
      "metadata":{
        
      }
    },
    {
      "cell_type":"code",
      "source":[
        "#multidimensional brute-force method\n",
        "def bruteforce1(func):\n",
        "    f=[]\n",
        "    N=0\n",
        "    for i in range(0,1000):\n",
        "        a=i\/1000\n",
        "        for j in range(0,1000):\n",
        "            N=N+1\n",
        "            b=j\/1000\n",
        "            f.append((a,b,func(a,b)))\n",
        "    return min(f, key = lambda t: t[2])[0],min(f, key = lambda t: t[2])[1],N"
      ],
      "execution_count":328,
      "outputs":[
        
      ],
      "metadata":{
        
      }
    },
    {
      "cell_type":"code",
      "source":[
        "#determination of parameters and the number of iterations (f-calculations)\n",
        "Brute_lin=bruteforce1(d_lin)\n",
        "Brute_rat=bruteforce1(d_rat)\n",
        "print(Brute_lin[0],Brute_lin[1],Brute_lin[2],Brute_rat[0],Brute_rat[1],Brute_rat[2])\n",
        "print(d_lin(Brute_lin[0],Brute_lin[1]))\n",
        "print(d_rat(Brute_rat[0],Brute_rat[1]))"
      ],
      "execution_count":345,
      "outputs":[
        {
          "name":"stdout",
          "text":[
            "0.994 0.206 1000000 0.698 0.0 1000000\n",
            "0.994 0.206 1000000 0.698 0.0 1000000\n",
            "0.994 0.206 1000000 0.698 0.0 1000000\n",
            "0.994 0.206 1000000 0.698 0.0 1000000\n"
          ],
          "output_type":"stream"
        }
      ],
      "metadata":{
        
      }
    },
    {
      "cell_type":"code",
      "source":[
        "#Coordinate Descent method\n",
        "def gauss1(func,x,y):\n",
        "    a_prev,b_prev=0,0\n",
        "    a_now,b_now=1,1\n",
        "    N_iter=0\n",
        "    N_func=0\n",
        "    f=[]\n",
        "    while abs(a_now-a_prev)>0.001 and abs(b_now-b_prev)>0.001: \n",
        "        f=[]\n",
        "        a_prev=a_now\n",
        "        b_prev=b_now\n",
        "        def gauss_a(a):\n",
        "            summa=func(a,b_prev)\n",
        "            return summa\n",
        "        #for a in range(0,1000):\n",
        "        #    f.append((a\/1000,b_prev,func(x,y,a\/1000,b_prev)))\n",
        "        #    N_func=N_func+1\n",
        "        #    N_iter=N_iter+1\n",
        "        #a_now=min(f, key = lambda t: t[2])[0]\n",
        "        a_now=golden(gauss_a,-10,10)[0]\n",
        "        N_iter=N_iter+golden(gauss_a,-10,10)[1]\n",
        "        N_func=N_func+golden(gauss_a,-10,10)[2]\n",
        "        f=[]\n",
        "        def gauss_b(b):\n",
        "            summa=func(a_now,b)\n",
        "            return summa\n",
        "        #for b in range(0,1000):\n",
        "        #    f.append((a_now,b\/1000,func(x,y,a_now,b\/1000)))\n",
        "        #    N_func=N_func+1\n",
        "        #    N_iter=N_iter+1\n",
        "        #b_now=min(f, key = lambda t: t[2])[1]\n",
        "        b_now=golden(gauss_b,-10,10)[0]\n",
        "        N_iter=N_iter+golden(gauss_b,-10,10)[1]\n",
        "        N_func=N_func+golden(gauss_b,-10,10)[2]\n",
        "    return a_now,b_now,N_func,N_iter"
      ],
      "execution_count":287,
      "outputs":[
        
      ],
      "metadata":{
        
      }
    },
    {
      "cell_type":"code",
      "source":[
        "#determination of gauss parameters and the number of iterations (f-calculations)\n",
        "(a_gauss_lin,b_gauss_lin,N_gauss_lin_func,N_gauss_lin_it)=gauss1(d_lin,x,y)\n",
        "(a_gauss_rat,b_gauss_rat,N_gauss_rat_func,N_gauss_rat_it)=gauss1(d_rat,x,y)\n",
        "print(a_gauss_lin,b_gauss_lin,N_gauss_lin_it,N_gauss_lin_func,a_gauss_rat,b_gauss_rat,N_gauss_rat_it,N_gauss_rat_func)\n",
        "print(d_lin(a_gauss_lin,b_gauss_lin))\n",
        "print(d_rat(a_gauss_rat,b_gauss_rat))"
      ],
      "execution_count":288,
      "outputs":[
        {
          "name":"stdout",
          "text":[
            "0.9903369994111498 0.20792276049414865 840 880 0.4278639912513703 -0.6776357316897581 630 660\n",
            "[78.65557418]\n",
            "[79.76855647]\n"
          ],
          "output_type":"stream"
        }
      ],
      "metadata":{
        
      }
    },
    {
      "cell_type":"code",
      "source":[
        "#squared residual sum for linear approximation (for Nelder-Mead)\n",
        "def d_lin_NM(params):\n",
        "    a,b=params\n",
        "    summa=0\n",
        "    for i in range(0,101):\n",
        "        summa=summa+(a*x[i]+b-y[i])**2\n",
        "    return summa"
      ],
      "execution_count":17,
      "outputs":[
        
      ],
      "metadata":{
        
      }
    },
    {
      "cell_type":"code",
      "source":[
        "#determination of Nelder-Mead linear parameters and the number of iterations (f-calculations)\n",
        "result=scipy.optimize.minimize(d_lin_NM,np.array([1,1]),args=(), method='Nelder-Mead',options={'xatol': 0.001,'disp': True})\n",
        "print(result.x)\n",
        "print(d_lin_NM(result.x))"
      ],
      "execution_count":73,
      "outputs":[
        {
          "name":"stdout",
          "text":[
            "Optimization terminated successfully.\n",
            "         Current function value: 78.655394\n",
            "         Iterations: 30\n",
            "         Function evaluations: 57\n",
            "[0.99532972 0.20539959]\n",
            "[78.65539413]\n"
          ],
          "output_type":"stream"
        }
      ],
      "metadata":{
        
      }
    },
    {
      "cell_type":"code",
      "source":[
        "#squared residual sum for rational approximation (for Nelder-Mead)\n",
        "def d_rat_NM(params):\n",
        "    a,b=params\n",
        "    summa=0\n",
        "    for i in range(0,101):\n",
        "        summa=summa+(a\/(x[i]*b+1)-y[i])**2\n",
        "    return summa"
      ],
      "execution_count":19,
      "outputs":[
        
      ],
      "metadata":{
        
      }
    },
    {
      "cell_type":"code",
      "source":[
        "#determination of Nelder-Mead rational parameters and the number of iterations (f-calculations)\n",
        "result_rat=scipy.optimize.minimize(d_rat_NM,np.array([1,1]),args=(), method='Nelder-Mead',options={'xatol': 0.001,'disp': True})\n",
        "print(result_rat.x)\n",
        "print(d_rat_NM(result_rat.x))"
      ],
      "execution_count":190,
      "outputs":[
        {
          "name":"stdout",
          "text":[
            "Optimization terminated successfully.\n",
            "         Current function value: 79.768267\n",
            "         Iterations: 33\n",
            "         Function evaluations: 63\n",
            "[ 0.42559296 -0.67999028]\n",
            "[79.7682671]\n"
          ],
          "output_type":"stream"
        }
      ],
      "metadata":{
        
      }
    },
    {
      "cell_type":"code",
      "source":[
        "#sum of squared residuals for gradient methods (linear)\n",
        "def d_lin_grad(params):\n",
        "    a,b=params[0][0],params[0][1]\n",
        "    summa=0\n",
        "    for i in range(0,101):\n",
        "        summa=summa+(a*x[i]+b-y[i])**2\n",
        "    return summa"
      ],
      "execution_count":24,
      "outputs":[
        
      ],
      "metadata":{
        
      }
    },
    {
      "cell_type":"code",
      "source":[
        "#sum of squared residuals for gradient methods (rational)\n",
        "def d_rat_grad(params):\n",
        "    a,b=params[0][0],params[0][1]\n",
        "    summa=0\n",
        "    for i in range(0,101):\n",
        "        summa=summa+(a\/(x[i]*b+1)-y[i])**2\n",
        "    return summa"
      ],
      "execution_count":232,
      "outputs":[
        
      ],
      "metadata":{
        
      }
    },
    {
      "cell_type":"code",
      "source":[
        "#gradient of sum-function (linear)\n",
        "def d_lin_deriv(params):\n",
        "    a,b=params[0],params[1]\n",
        "    dsda=0\n",
        "    dsdb=0\n",
        "    for i in range(0,101):\n",
        "        dsda=dsda+2*x[i]*(a*x[i]+b-y[i])\n",
        "        dsdb=dsdb+2*(a*x[i]+b-y[i])\n",
        "    return np.array([dsda,dsdb])"
      ],
      "execution_count":26,
      "outputs":[
        
      ],
      "metadata":{
        
      }
    },
    {
      "cell_type":"code",
      "source":[
        "#gradient of sum-function (rational)\n",
        "def d_rat_deriv(params):\n",
        "    a,b=params[0],params[1]\n",
        "    dsda=0\n",
        "    dsdb=0\n",
        "    for i in range(0,101):\n",
        "        dsda=dsda+2*(a\/(1+b*x[i])-y[i])*(1\/(1+b*x[i]))\n",
        "        dsdb=dsdb+2*(a\/(1+b*x[i])-y[i])*(-a*x[i]\/((1+b*x[i])**2))\n",
        "    return np.array([dsda,dsdb])"
      ],
      "execution_count":27,
      "outputs":[
        
      ],
      "metadata":{
        
      }
    },
    {
      "cell_type":"code",
      "source":[
        "#Gradient Descent method\n",
        "def grad_descent(func,grad,x,y,a0,b0):\n",
        "    N_iter=0\n",
        "    a_now=[np.array([a0,b0])]\n",
        "    gk=grad(a_now[0])\n",
        "    N_func=1\n",
        "    gk=np.array([gk[0][0],gk[1][0]])\n",
        "    #f=[]\n",
        "    #for beta in range(1000):\n",
        "    #    f.append((beta\/1000,func(a_now-(beta\/1000)*gk.T)))\n",
        "    #    N_iter=N_iter+1\n",
        "    #    N_func=N_func+1\n",
        "    #beta=min(f,key = lambda t: t[1])[0]\n",
        "    def gauss(beta):\n",
        "        return func(a_now-beta*gk.T)\n",
        "    beta=golden(gauss,-10,10)[0]\n",
        "    N_iter=N_iter+golden(gauss,-10,10)[1]\n",
        "    N_func=N_func+golden(gauss,-10,10)[2]\n",
        "    f=[]\n",
        "    ak=a_now\n",
        "    a_now=a_now-beta*gk.T\n",
        "    k=1\n",
        "    if abs(a_now[0][0]-ak[0][0])<0.001 and abs(a_now[0][1]-ak[0][1])<0.001:\n",
        "        return a_now, N_iter, N_func\n",
        "    while abs(a_now[0][0]-ak[0][0])>0.001 and abs(a_now[0][1]-ak[0][1])>0.001:\n",
        "        k=k+1\n",
        "        N_iter=N_iter+1\n",
        "        g=grad(a_now[0])\n",
        "        N_func=N_func+1\n",
        "        g=np.array([g[0][0],g[1][0]])\n",
        "        beta=np.dot(a_now[0]-ak[0],(g-gk))\/np.dot((g-gk).T,(g-gk))\n",
        "        t=a_now\n",
        "        a_now=a_now-beta*g.T\n",
        "        ak=t\n",
        "        gk=g\n",
        "    print(k)\n",
        "    return a_now, N_iter, N_func"
      ],
      "execution_count":332,
      "outputs":[
        
      ],
      "metadata":{
        
      }
    },
    {
      "cell_type":"code",
      "source":[
        "#Applying Gradient Descent to the data (linear)\n",
        "descent_lin=grad_descent(d_lin_grad,d_lin_deriv,x,y,1,1)\n",
        "print(descent_lin)\n",
        "plt.scatter(x,y)\n",
        "plt.plot(x, descent_lin[0][0][0]* x + descent_lin[0][0][1], 'r')"
      ],
      "execution_count":333,
      "outputs":[
        {
          "name":"stdout",
          "text":[
            "5\n",
            "(array([[0.99494431, 0.20542634]]), 25, 27)\n"
          ],
          "output_type":"stream"
        },
        {
          "data":{
            "text\/plain":[
              "[<matplotlib.lines.Line2D at 0x7f61f5d2f8e0>]"
            ],
            "image\/png":"[encoded data removed]"
          },
          "metadata":{
            "image\/png":{
              
            }
          },
          "output_type":"display_data"
        }
      ],
      "metadata":{
        
      }
    },
    {
      "cell_type":"code",
      "source":[
        "#Applying Gradient Descent to the data (rational)\n",
        "descent_rat=grad_descent(d_rat_grad,d_rat_deriv,x,y,0,-0.7)\n",
        "print(descent_rat)\n",
        "print(d_rat_grad(descent_rat[0]))\n",
        "plt.scatter(x,y)\n",
        "plt.plot(x, descent_rat[0][0][0]\/ (1 + descent_rat[0][0][1] * x), 'r')"
      ],
      "execution_count":341,
      "outputs":[
        {
          "name":"stdout",
          "text":[
            "1\n",
            "(array([[ 0.44702518, -0.7       ]]), 21, 23)\n",
            "[80.19194017]\n"
          ],
          "output_type":"stream"
        },
        {
          "data":{
            "text\/plain":[
              "[<matplotlib.lines.Line2D at 0x7f61fb7cd880>]"
            ],
            "image\/png":"[encoded data removed]"
          },
          "metadata":{
            "image\/png":{
              
            }
          },
          "output_type":"display_data"
        }
      ],
      "metadata":{
        
      }
    },
    {
      "cell_type":"code",
      "source":[
        "#Conjugate gradients method\n",
        "def conjugate_grad(func,grad,x,y,a0,b0):\n",
        "    N_iter=0\n",
        "    a_now=[np.array([a0,b0])]\n",
        "    gk=grad(a_now[0])\n",
        "    N_func=1\n",
        "    gk=np.array([gk[0][0],gk[1][0]])\n",
        "    #f=[]\n",
        "    #for alpha in range(1000):\n",
        "    #    f.append((alpha\/1000,func(a_now-(alpha\/1000)*gk.T)))\n",
        "    #    N_iter=N_iter+1\n",
        "    #    N_func=N_func+1\n",
        "    #alpha=min(f,key = lambda t: t[1])[0]\n",
        "    def gauss(alpha):\n",
        "        return func(a_now-alpha*gk.T)\n",
        "    alpha=golden(gauss,-10,10)[0]\n",
        "    N_iter=N_iter+golden(gauss,-10,10)[1]\n",
        "    N_func=N_func+golden(gauss,-10,10)[2]\n",
        "    f=[]\n",
        "    ak=a_now\n",
        "    sk=-gk\n",
        "    a_now=a_now-alpha*gk.T\n",
        "    k=1\n",
        "    if abs(a_now[0][0]-ak[0][0])<0.001 and abs(a_now[0][1]-ak[0][1])<0.001:\n",
        "        return a_now, N_iter, N_func\n",
        "    while abs(a_now[0][0]-ak[0][0])>0.001 and abs(a_now[0][1]-ak[0][1])>0.001:\n",
        "        k=k+1\n",
        "        g=grad(a_now[0])\n",
        "        N_func=N_func+1\n",
        "        g=np.array([g[0][0],g[1][0]])\n",
        "        beta=np.dot(g.T,g)\/np.dot(gk.T,gk)\n",
        "        s_now=-g+beta*sk\n",
        "        def gauss1(alpha):\n",
        "            return func(a_now+alpha*s_now.T)\n",
        "        alpha=golden(gauss1,-10,10)[0]\n",
        "        N_iter=N_iter+golden(gauss1,-10,10)[1]\n",
        "        N_func=N_func+golden(gauss1,-10,10)[2]\n",
        "        #f=[]\n",
        "        #for alpha in range(1000):\n",
        "        #   N_iter=N_iter+1\n",
        "        #    f.append((alpha\/1000,func(a_now+(alpha\/1000)*s_now.T)))\n",
        "        #    N_func=N_func+1\n",
        "        #alpha=min(f,key=lambda t: t[1])[0]\n",
        "        t=a_now\n",
        "        a_now=a_now+alpha*s_now.T\n",
        "        ak=t\n",
        "        gk=g\n",
        "        sk=s_now\n",
        "    print(k)\n",
        "    return a_now, N_iter,N_func"
      ],
      "execution_count":330,
      "outputs":[
        
      ],
      "metadata":{
        
      }
    },
    {
      "cell_type":"code",
      "source":[
        "#Applying Conjugate Gradients method to the data (linear)\n",
        "conjugate_lin=conjugate_grad(d_lin_grad,d_lin_deriv,x,y,1,1)\n",
        "print(conjugate_lin)\n",
        "plt.scatter(x,y)\n",
        "plt.plot(x, conjugate_lin[0][0][0]* x + conjugate_lin[0][0][1], 'r')"
      ],
      "execution_count":331,
      "outputs":[
        {
          "name":"stdout",
          "text":[
            "6\n",
            "(array([[0.9948279 , 0.20559939]]), 126, 138)\n"
          ],
          "output_type":"stream"
        },
        {
          "data":{
            "text\/plain":[
              "[<matplotlib.lines.Line2D at 0x7f61f0de80a0>]"
            ],
            "image\/png":"[encoded data removed]"
          },
          "metadata":{
            "image\/png":{
              
            }
          },
          "output_type":"display_data"
        }
      ],
      "metadata":{
        
      }
    },
    {
      "cell_type":"code",
      "source":[
        "#Applying Conjugate Gradients method to the data (rational)\n",
        "conjugate_rat=conjugate_grad(d_rat_grad,d_rat_deriv,x,y,-0.2,0.4)\n",
        "print(conjugate_rat)\n",
        "plt.scatter(x,y)\n",
        "plt.plot(x, conjugate_rat[0][0][0]\/(1+x*conjugate_rat[0][0][1]), 'r')"
      ],
      "execution_count":342,
      "outputs":[
        {
          "name":"stdout",
          "text":[
            "6\n",
            "(array([[ 0.60768516, -0.62551962]]), 126, 138)\n"
          ],
          "output_type":"stream"
        },
        {
          "data":{
            "text\/plain":[
              "[<matplotlib.lines.Line2D at 0x7f61fef9c310>]"
            ],
            "image\/png":"[encoded data removed]"
          },
          "metadata":{
            "image\/png":{
              
            }
          },
          "output_type":"display_data"
        }
      ],
      "metadata":{
        
      }
    },
    {
      "cell_type":"code",
      "source":[
        "#gradient value for Newton method (linear)\n",
        "def d_lin_deriv_new(params):\n",
        "    a,b=params\n",
        "    dsda=0\n",
        "    dsdb=0\n",
        "    for i in range(0,101):\n",
        "        dsda=dsda+2*x[i]*(a*x[i]+b-y[i])\n",
        "        dsdb=dsdb+2*(a*x[i]+b-y[i])\n",
        "    dsda=dsda[0]\n",
        "    dsdb=dsdb[0]\n",
        "    return np.array([dsda,dsdb])"
      ],
      "execution_count":38,
      "outputs":[
        
      ],
      "metadata":{
        
      }
    },
    {
      "cell_type":"code",
      "source":[
        "#gradient value for Newton method (rational)\n",
        "def d_rat_deriv_new(params):\n",
        "    a,b=params\n",
        "    dsda=0\n",
        "    dsdb=0\n",
        "    for i in range(0,101):\n",
        "        dsda=dsda+2*(a\/(1+b*x[i])-y[i])*(1\/(1+b*x[i]))\n",
        "        dsdb=dsdb+2*(a\/(1+b*x[i])-y[i])*(-a*x[i]\/((1+b*x[i])**2))\n",
        "    dsda=dsda[0]\n",
        "    dsdb=dsdb[0]\n",
        "    return np.array([dsda,dsdb])"
      ],
      "execution_count":39,
      "outputs":[
        
      ],
      "metadata":{
        
      }
    },
    {
      "cell_type":"code",
      "source":[
        "#Hessian value for Newton method (linear)\n",
        "def d_lin_hess(params):\n",
        "    a,b=params\n",
        "    dsdada=0\n",
        "    dsdbdb=0\n",
        "    dsdadb=0\n",
        "    for i in range(0,101):\n",
        "        dsdada=dsdada+2*(x[i]**2)\n",
        "        dsdbdb=dsdbdb+2*(i+1)\n",
        "        dsdadb=dsdadb+2*x[i]\n",
        "    hessian=np.ones([2,2])\n",
        "    hessian[0,0]=dsdada\n",
        "    hessian[0,1]=dsdadb\n",
        "    hessian[1,0]=dsdadb\n",
        "    hessian[1,1]=dsdbdb\n",
        "    return hessian"
      ],
      "execution_count":40,
      "outputs":[
        
      ],
      "metadata":{
        
      }
    },
    {
      "cell_type":"code",
      "source":[
        "#Hessian value for Newton method (linear)\n",
        "def d_rat_hess(params):\n",
        "    a,b=params\n",
        "    dsdada=0\n",
        "    dsdbdb=0\n",
        "    dsdadb=0\n",
        "    for i in range(0,101):\n",
        "        dsdada=dsdada+2\/((1+b*x[i])**2)\n",
        "        dsdbdb=dsdbdb+2*a*(x[i]**2)*(3*a-2*(b*x[i]*y[i]+y[i]))\/(1+b*x[i])**4\n",
        "        dsdadb=dsdadb+2*x[i]*(-2*a+b*x[i]*y[i]+y[i])\/(1+b*x[i])**3\n",
        "    hessian=np.ones([2,2])\n",
        "    hessian[0,0]=dsdada\n",
        "    hessian[0,1]=dsdadb\n",
        "    hessian[1,0]=dsdadb\n",
        "    hessian[1,1]=dsdbdb\n",
        "    return hessian"
      ],
      "execution_count":41,
      "outputs":[
        
      ],
      "metadata":{
        
      }
    },
    {
      "cell_type":"code",
      "source":[
        "#Applying Newton method to the data (linear)\n",
        "newton_lin = scipy.optimize.minimize(d_lin_NM, np.array([0.9, 0.2]), method='Newton-CG', jac=d_lin_deriv_new, hess=d_lin_hess, options={'xtol': 1e-3, 'disp':True})\n",
        "print(newton_lin.x)\n",
        "print(d_lin_NM(newton_lin.x))\n",
        "plt.plot(x, newton_lin.x[0]*x + newton_lin.x[1], 'r')\n",
        "plt.scatter(x,y)"
      ],
      "execution_count":338,
      "outputs":[
        {
          "name":"stdout",
          "text":[
            "Optimization terminated successfully.\n",
            "         Current function value: 78.656019\n",
            "         Iterations: 2\n",
            "         Function evaluations: 5\n",
            "         Gradient evaluations: 5\n",
            "         Hessian evaluations: 2\n",
            "[1.00312669 0.20059381]\n",
            "[78.65601905]\n"
          ],
          "output_type":"stream"
        },
        {
          "data":{
            "text\/plain":[
              "<matplotlib.collections.PathCollection at 0x7f61fb682e20>"
            ],
            "image\/png":"[encoded data removed]"
          },
          "metadata":{
            "image\/png":{
              
            }
          },
          "output_type":"display_data"
        }
      ],
      "metadata":{
        
      }
    },
    {
      "cell_type":"code",
      "source":[
        "#Applying Newton method to the data (rational)\n",
        "newton_rat = scipy.optimize.minimize(d_rat_NM, np.array([0, -0.4]), method='Newton-CG', jac=d_rat_deriv_new, hess=d_rat_hess, options={'xtol': 1e-3, 'disp':True})\n",
        "print(newton_rat.x)\n",
        "print(d_rat_NM(newton_rat.x))\n",
        "plt.plot(x, newton_rat.x[0]*x + newton_rat.x[1], 'r')\n",
        "plt.scatter(x,y)"
      ],
      "execution_count":167,
      "outputs":[
        {
          "name":"stdout",
          "text":[
            "Optimization terminated successfully.\n",
            "         Current function value: 79.768247\n",
            "         Iterations: 6\n",
            "         Function evaluations: 10\n",
            "         Gradient evaluations: 10\n",
            "         Hessian evaluations: 6\n",
            "[ 0.42604819 -0.67956238]\n",
            "[79.76824694]\n"
          ],
          "output_type":"stream"
        },
        {
          "data":{
            "text\/plain":[
              "<matplotlib.collections.PathCollection at 0x7f61fb740730>"
            ],
            "image\/png":"[encoded data removed]"
          },
          "metadata":{
            "image\/png":{
              
            }
          },
          "output_type":"display_data"
        }
      ],
      "metadata":{
        
      }
    },
    {
      "cell_type":"code",
      "source":[
        "#list of calculated functions for Levenberg-Marquardt method (linear)\n",
        "def d_lin_lm(params):\n",
        "    a,b=params\n",
        "    k=np.ones(0)\n",
        "    for i in range(y.size):\n",
        "        k=np.append(k,y[i][0])\n",
        "    return ((a*x+b)-k)**2"
      ],
      "execution_count":8,
      "outputs":[
        
      ],
      "metadata":{
        
      }
    },
    {
      "cell_type":"code",
      "source":[
        "#Applying Levenberg-Marquardt method to the data (linear)\n",
        "lm_lin = scipy.optimize.least_squares(d_lin_lm, [0.9, -0.8], method=\"lm\", xtol=1e-3)\n",
        "print(lm_lin.x)\n",
        "plt.plot(x, lm_lin.x[0]*x + lm_lin.x[1], 'r')\n",
        "plt.scatter(x,y)"
      ],
      "execution_count":340,
      "outputs":[
        {
          "name":"stdout",
          "text":[
            "[0.68047228 0.25457469]\n"
          ],
          "output_type":"stream"
        },
        {
          "data":{
            "text\/plain":[
              "<matplotlib.collections.PathCollection at 0x7f61fc0d85e0>"
            ],
            "image\/png":"[encoded data removed]"
          },
          "metadata":{
            "image\/png":{
              
            }
          },
          "output_type":"display_data"
        }
      ],
      "metadata":{
        
      }
    },
    {
      "cell_type":"code",
      "source":[
        "#list of calculated functions for Levenberg-Marquardt method (rational)\n",
        "def d_rat_lm(params):\n",
        "    a,b=params\n",
        "    k=np.ones(0)\n",
        "    for i in range(y.size):\n",
        "        k=np.append(k,y[i][0])\n",
        "    return (a\/(1+b*x)-k)**2"
      ],
      "execution_count":7,
      "outputs":[
        
      ],
      "metadata":{
        
      }
    },
    {
      "cell_type":"code",
      "source":[
        "#Applying Levenberg-Marquardt method to the data (rational)\n",
        "lm_rat = scipy.optimize.least_squares(d_rat_lm, [-0.7, -0.5], method=\"lm\", xtol=1e-3)\n",
        "print(lm_rat.x)\n",
        "plt.plot(x, lm_rat.x[0]*x + lm_rat.x[1], 'r')\n",
        "plt.scatter(x,y)"
      ],
      "execution_count":166,
      "outputs":[
        {
          "name":"stdout",
          "text":[
            "[ 0.33695832 -0.73692916]\n"
          ],
          "output_type":"stream"
        },
        {
          "data":{
            "text\/plain":[
              "<matplotlib.collections.PathCollection at 0x7f61fbbf3a90>"
            ],
            "image\/png":"[encoded data removed]"
          },
          "metadata":{
            "image\/png":{
              
            }
          },
          "output_type":"display_data"
        }
      ],
      "metadata":{
        
      }
    },
    {
      "cell_type":"code",
      "source":[
        "#Visualization of performance of various methods (linear)\n",
        "plt.scatter(x,y)\n",
        "plt.plot(x, descent_lin[0][0][0]* x + descent_lin[0][0][1], 'r', label='GD')\n",
        "plt.plot(x, conjugate_lin[0][0][0]* x + conjugate_lin[0][0][1], 'g',label= 'CG')\n",
        "plt.plot(x, newton_lin.x[0]*x + newton_lin.x[1], 'b',label='Newton')\n",
        "plt.plot(x, lm_lin.x[0]*x + lm_lin.x[1], 'y',label='LM')\n",
        "plt.legend()"
      ],
      "execution_count":312,
      "outputs":[
        {
          "data":{
            "text\/plain":[
              "<matplotlib.legend.Legend at 0x7f61fcf713d0>"
            ],
            "image\/png":"[encoded data removed]"
          },
          "metadata":{
            "image\/png":{
              
            }
          },
          "output_type":"display_data"
        }
      ],
      "metadata":{
        
      }
    },
    {
      "cell_type":"code",
      "source":[
        "#Visualization of performance of various methods (rational)\n",
        "plt.scatter(x,y)\n",
        "plt.plot(x, descent_rat[0][0][0]\/(1+ x * descent_rat[0][0][1]), 'r', label='GD')\n",
        "plt.plot(x, conjugate_rat[0][0][0]\/(1+ x * conjugate_rat[0][0][1]), 'g',label= 'CG')\n",
        "plt.plot(x, newton_rat.x[0]\/(1+ x * newton_rat.x[1]), 'b',label='Newton')\n",
        "plt.plot(x, lm_rat.x[0]\/(1+ x * lm_rat.x[1]), 'y',label='LM')\n",
        "plt.legend()"
      ],
      "execution_count":311,
      "outputs":[
        {
          "data":{
            "text\/plain":[
              "<matplotlib.legend.Legend at 0x7f61fc37a280>"
            ],
            "image\/png":"[encoded data removed]"
          },
          "metadata":{
            "image\/png":{
              
            }
          },
          "output_type":"display_data"
        }
      ],
      "metadata":{
        
      }
    }
  ],
  "metadata":{
    
  },
  "nbformat":4,
  "nbformat_minor":0
}